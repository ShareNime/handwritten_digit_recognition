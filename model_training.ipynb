{
  "cells": [
    {
      "cell_type": "code",
      "execution_count": 15,
      "metadata": {
        "id": "USQZ1r9WReDw"
      },
      "outputs": [],
      "source": [
        "import os\n",
        "import cv2\n",
        "import numpy as np\n",
        "import matplotlib.pyplot as plt\n",
        "import tensorflow as tf\n",
        "import pandas as pd\n",
        "from tensorflow.keras import layers\n",
        "from tensorflow.keras.preprocessing.image import ImageDataGenerator\n",
        "from sklearn.model_selection import train_test_split\n"
      ]
    },
    {
      "cell_type": "code",
      "execution_count": 16,
      "metadata": {
        "colab": {
          "base_uri": "https://localhost:8080/"
        },
        "id": "c-V54Y4KRpn1",
        "outputId": "d69f3635-b6c9-4c45-952e-2274358c3e67"
      },
      "outputs": [
        {
          "name": "stdout",
          "output_type": "stream",
          "text": [
            "Mounted at /content/gdrive\n"
          ]
        }
      ],
      "source": [
        "from google.colab import drive\n",
        "drive.mount('/content/gdrive')"
      ]
    },
    {
      "cell_type": "code",
      "execution_count": 17,
      "metadata": {
        "colab": {
          "base_uri": "https://localhost:8080/"
        },
        "id": "ztTMNwVARvZ8",
        "outputId": "07c606b3-08c5-4214-a7a5-c855b9146aba"
      },
      "outputs": [
        {
          "name": "stdout",
          "output_type": "stream",
          "text": [
            "Mounted at /content/drive\n"
          ]
        }
      ],
      "source": [
        "from google.colab import drive\n",
        "drive.mount('/content/drive')"
      ]
    },
    {
      "cell_type": "code",
      "execution_count": 18,
      "metadata": {
        "id": "bAvN5i4HRvu1"
      },
      "outputs": [],
      "source": [
        "PATH_1 = \"/content/drive/MyDrive/dataset_baru.csv\"\n",
        "df = pd.read_csv(PATH_1)"
      ]
    },
    {
      "cell_type": "code",
      "execution_count": 19,
      "metadata": {
        "id": "xtbv_08kR8XQ"
      },
      "outputs": [],
      "source": [
        "Y_train = df['label']\n",
        "X_train = df.drop(labels=['label'],axis=1)"
      ]
    },
    {
      "cell_type": "code",
      "execution_count": 20,
      "metadata": {
        "id": "LWl52DgwTNw5"
      },
      "outputs": [],
      "source": [
        "X_train = X_train.values.reshape(-1,28,28,1)"
      ]
    },
    {
      "cell_type": "code",
      "execution_count": 20,
      "metadata": {
        "id": "JxIrpHWFVaQj"
      },
      "outputs": [],
      "source": []
    },
    {
      "cell_type": "code",
      "execution_count": 21,
      "metadata": {
        "id": "bRoIsiJIUPYz"
      },
      "outputs": [],
      "source": [
        "X_train,X_val,Y_train,Y_val = train_test_split(X_train,Y_train,test_size=0.3,\n",
        "                                                random_state = 2)"
      ]
    },
    {
      "cell_type": "code",
      "execution_count": 22,
      "metadata": {
        "id": "jHVhWfb1T0-Y"
      },
      "outputs": [],
      "source": [
        "datagen = ImageDataGenerator(\n",
        "        featurewise_center=False,  # set input mean to 0 over the dataset\n",
        "        samplewise_center=False,  # set each sample mean to 0\n",
        "        featurewise_std_normalization=False,  # divide inputs by std of the dataset\n",
        "        samplewise_std_normalization=False,  # divide each input by its std\n",
        "        zca_whitening=False,  # apply ZCA whitening\n",
        "        rotation_range=10,  # randomly rotate images in the range (degrees, 0 to 180)\n",
        "        zoom_range = 0.1, # Randomly zoom image \n",
        "        width_shift_range=0.1,  # randomly shift images horizontally (fraction of total width)\n",
        "        height_shift_range=0.1,  # randomly shift images vertically (fraction of total height)\n",
        "        horizontal_flip=False,  # randomly flip images\n",
        "        vertical_flip=False)  # randomly flip images\n",
        "\n",
        "\n",
        "datagen.fit(X_train)"
      ]
    },
    {
      "cell_type": "code",
      "execution_count": 23,
      "metadata": {
        "id": "CZqtSvN_T9ar"
      },
      "outputs": [],
      "source": [
        "epochs=100\n",
        "batch_size = 112"
      ]
    },
    {
      "cell_type": "code",
      "execution_count": 24,
      "metadata": {
        "id": "4POQZDszUiC9"
      },
      "outputs": [],
      "source": [
        "learning_rate_reduction = tf.keras.callbacks.ReduceLROnPlateau(monitor='val_acc',\n",
        "                                           patience=3,\n",
        "                                           verbose=1,\n",
        "                                           factor=0.5,\n",
        "                                           min_lr=1e-06)"
      ]
    },
    {
      "cell_type": "code",
      "execution_count": 25,
      "metadata": {
        "colab": {
          "base_uri": "https://localhost:8080/"
        },
        "id": "Te_9cU3VSHOT",
        "outputId": "a1898279-bf24-4920-877f-179c662b122a"
      },
      "outputs": [
        {
          "name": "stdout",
          "output_type": "stream",
          "text": [
            "Epoch 1/100\n"
          ]
        },
        {
          "name": "stderr",
          "output_type": "stream",
          "text": [
            "<ipython-input-25-f95f526869e5>:32: UserWarning: `Model.fit_generator` is deprecated and will be removed in a future version. Please use `Model.fit`, which supports generators.\n",
            "  history = model.fit_generator(datagen.flow(X_train,Y_train, batch_size=batch_size),\n"
          ]
        },
        {
          "name": "stdout",
          "output_type": "stream",
          "text": [
            "4/4 - 8s - loss: 2.1509 - accuracy: 0.2178 - val_loss: 2.1388 - val_accuracy: 0.2155 - 8s/epoch - 2s/step\n",
            "Epoch 2/100\n",
            "4/4 - 4s - loss: 2.0777 - accuracy: 0.2506 - val_loss: 2.1050 - val_accuracy: 0.2586 - 4s/epoch - 998ms/step\n",
            "Epoch 3/100\n",
            "4/4 - 5s - loss: 2.0461 - accuracy: 0.2768 - val_loss: 2.1024 - val_accuracy: 0.2586 - 5s/epoch - 1s/step\n",
            "Epoch 4/100\n",
            "4/4 - 4s - loss: 2.0476 - accuracy: 0.2679 - val_loss: 2.1025 - val_accuracy: 0.3103 - 4s/epoch - 1s/step\n",
            "Epoch 5/100\n",
            "4/4 - 5s - loss: 2.0580 - accuracy: 0.2787 - val_loss: 2.0886 - val_accuracy: 0.3017 - 5s/epoch - 1s/step\n",
            "Epoch 6/100\n",
            "4/4 - 4s - loss: 2.0476 - accuracy: 0.2857 - val_loss: 2.0832 - val_accuracy: 0.2629 - 4s/epoch - 1s/step\n",
            "Epoch 7/100\n",
            "4/4 - 10s - loss: 2.0199 - accuracy: 0.2998 - val_loss: 2.0834 - val_accuracy: 0.2586 - 10s/epoch - 2s/step\n",
            "Epoch 8/100\n",
            "4/4 - 4s - loss: 2.0042 - accuracy: 0.3138 - val_loss: 2.0405 - val_accuracy: 0.3147 - 4s/epoch - 1s/step\n",
            "Epoch 9/100\n",
            "4/4 - 4s - loss: 1.9595 - accuracy: 0.3232 - val_loss: 1.9930 - val_accuracy: 0.3103 - 4s/epoch - 1s/step\n",
            "Epoch 10/100\n",
            "4/4 - 6s - loss: 1.9476 - accuracy: 0.3536 - val_loss: 1.9443 - val_accuracy: 0.3233 - 6s/epoch - 1s/step\n",
            "Epoch 11/100\n",
            "4/4 - 5s - loss: 1.9272 - accuracy: 0.3560 - val_loss: 1.9116 - val_accuracy: 0.3405 - 5s/epoch - 1s/step\n",
            "Epoch 12/100\n",
            "4/4 - 5s - loss: 1.9073 - accuracy: 0.3513 - val_loss: 1.8335 - val_accuracy: 0.3448 - 5s/epoch - 1s/step\n",
            "Epoch 13/100\n",
            "4/4 - 5s - loss: 1.8265 - accuracy: 0.3326 - val_loss: 1.7722 - val_accuracy: 0.3319 - 5s/epoch - 1s/step\n",
            "Epoch 14/100\n",
            "4/4 - 6s - loss: 1.7540 - accuracy: 0.3794 - val_loss: 1.7394 - val_accuracy: 0.3707 - 6s/epoch - 1s/step\n",
            "Epoch 15/100\n",
            "4/4 - 4s - loss: 1.7463 - accuracy: 0.3817 - val_loss: 1.6759 - val_accuracy: 0.4267 - 4s/epoch - 1s/step\n",
            "Epoch 16/100\n",
            "4/4 - 4s - loss: 1.7031 - accuracy: 0.4192 - val_loss: 1.5966 - val_accuracy: 0.4224 - 4s/epoch - 1s/step\n",
            "Epoch 17/100\n",
            "4/4 - 6s - loss: 1.6600 - accuracy: 0.4122 - val_loss: 1.5108 - val_accuracy: 0.4397 - 6s/epoch - 2s/step\n",
            "Epoch 18/100\n",
            "4/4 - 4s - loss: 1.5266 - accuracy: 0.4777 - val_loss: 1.4659 - val_accuracy: 0.4784 - 4s/epoch - 1s/step\n",
            "Epoch 19/100\n",
            "4/4 - 4s - loss: 1.5461 - accuracy: 0.4941 - val_loss: 1.4687 - val_accuracy: 0.5302 - 4s/epoch - 1s/step\n",
            "Epoch 20/100\n",
            "4/4 - 7s - loss: 1.4267 - accuracy: 0.5491 - val_loss: 1.3088 - val_accuracy: 0.5776 - 7s/epoch - 2s/step\n",
            "Epoch 21/100\n",
            "4/4 - 4s - loss: 1.4099 - accuracy: 0.5386 - val_loss: 1.1812 - val_accuracy: 0.6250 - 4s/epoch - 1s/step\n",
            "Epoch 22/100\n",
            "4/4 - 6s - loss: 1.3487 - accuracy: 0.5848 - val_loss: 1.2135 - val_accuracy: 0.6207 - 6s/epoch - 2s/step\n",
            "Epoch 23/100\n",
            "4/4 - 4s - loss: 1.2134 - accuracy: 0.6112 - val_loss: 1.0722 - val_accuracy: 0.6164 - 4s/epoch - 951ms/step\n",
            "Epoch 24/100\n",
            "4/4 - 4s - loss: 1.2254 - accuracy: 0.6136 - val_loss: 1.1241 - val_accuracy: 0.6724 - 4s/epoch - 954ms/step\n",
            "Epoch 25/100\n",
            "4/4 - 6s - loss: 1.1736 - accuracy: 0.6042 - val_loss: 1.0055 - val_accuracy: 0.6810 - 6s/epoch - 2s/step\n",
            "Epoch 26/100\n",
            "4/4 - 4s - loss: 1.1289 - accuracy: 0.6406 - val_loss: 1.0459 - val_accuracy: 0.6121 - 4s/epoch - 1s/step\n",
            "Epoch 27/100\n",
            "4/4 - 6s - loss: 1.0868 - accuracy: 0.6464 - val_loss: 1.0458 - val_accuracy: 0.6810 - 6s/epoch - 1s/step\n",
            "Epoch 28/100\n",
            "4/4 - 4s - loss: 1.1383 - accuracy: 0.6317 - val_loss: 0.9330 - val_accuracy: 0.6681 - 4s/epoch - 1s/step\n",
            "Epoch 29/100\n",
            "4/4 - 5s - loss: 1.0143 - accuracy: 0.6651 - val_loss: 0.9538 - val_accuracy: 0.6595 - 5s/epoch - 1s/step\n",
            "Epoch 30/100\n",
            "4/4 - 6s - loss: 1.0575 - accuracy: 0.6518 - val_loss: 0.8480 - val_accuracy: 0.7328 - 6s/epoch - 2s/step\n",
            "Epoch 31/100\n",
            "4/4 - 4s - loss: 0.9195 - accuracy: 0.7076 - val_loss: 0.8876 - val_accuracy: 0.7198 - 4s/epoch - 995ms/step\n",
            "Epoch 32/100\n",
            "4/4 - 6s - loss: 0.8836 - accuracy: 0.7166 - val_loss: 0.7356 - val_accuracy: 0.7586 - 6s/epoch - 2s/step\n",
            "Epoch 33/100\n",
            "4/4 - 4s - loss: 0.8671 - accuracy: 0.7299 - val_loss: 0.8471 - val_accuracy: 0.7155 - 4s/epoch - 1s/step\n",
            "Epoch 34/100\n",
            "4/4 - 6s - loss: 0.7745 - accuracy: 0.7545 - val_loss: 0.7356 - val_accuracy: 0.7586 - 6s/epoch - 2s/step\n",
            "Epoch 35/100\n",
            "4/4 - 4s - loss: 0.8016 - accuracy: 0.7073 - val_loss: 0.7147 - val_accuracy: 0.7629 - 4s/epoch - 1s/step\n",
            "Epoch 36/100\n",
            "4/4 - 7s - loss: 0.7812 - accuracy: 0.7564 - val_loss: 0.7759 - val_accuracy: 0.7371 - 7s/epoch - 2s/step\n",
            "Epoch 37/100\n",
            "4/4 - 4s - loss: 0.7286 - accuracy: 0.7775 - val_loss: 0.6483 - val_accuracy: 0.7974 - 4s/epoch - 1s/step\n",
            "Epoch 38/100\n",
            "4/4 - 4s - loss: 0.7272 - accuracy: 0.7705 - val_loss: 0.6307 - val_accuracy: 0.7888 - 4s/epoch - 1s/step\n",
            "Epoch 39/100\n",
            "4/4 - 6s - loss: 0.6604 - accuracy: 0.7835 - val_loss: 0.5878 - val_accuracy: 0.8319 - 6s/epoch - 2s/step\n",
            "Epoch 40/100\n",
            "4/4 - 4s - loss: 0.7453 - accuracy: 0.7679 - val_loss: 0.7585 - val_accuracy: 0.7500 - 4s/epoch - 1s/step\n",
            "Epoch 41/100\n",
            "4/4 - 6s - loss: 0.6753 - accuracy: 0.7916 - val_loss: 0.5646 - val_accuracy: 0.8578 - 6s/epoch - 1s/step\n",
            "Epoch 42/100\n",
            "4/4 - 4s - loss: 0.5846 - accuracy: 0.8033 - val_loss: 0.6650 - val_accuracy: 0.7888 - 4s/epoch - 951ms/step\n",
            "Epoch 43/100\n",
            "4/4 - 5s - loss: 0.6206 - accuracy: 0.7924 - val_loss: 0.5065 - val_accuracy: 0.8448 - 5s/epoch - 1s/step\n",
            "Epoch 44/100\n",
            "4/4 - 4s - loss: 0.5604 - accuracy: 0.8170 - val_loss: 0.5856 - val_accuracy: 0.8319 - 4s/epoch - 1s/step\n",
            "Epoch 45/100\n",
            "4/4 - 6s - loss: 0.5362 - accuracy: 0.8103 - val_loss: 0.5951 - val_accuracy: 0.8147 - 6s/epoch - 1s/step\n",
            "Epoch 46/100\n",
            "4/4 - 5s - loss: 0.5711 - accuracy: 0.8326 - val_loss: 0.5326 - val_accuracy: 0.8319 - 5s/epoch - 1s/step\n",
            "Epoch 47/100\n",
            "4/4 - 4s - loss: 0.5357 - accuracy: 0.8384 - val_loss: 0.4652 - val_accuracy: 0.8578 - 4s/epoch - 1s/step\n",
            "Epoch 48/100\n",
            "4/4 - 6s - loss: 0.4563 - accuracy: 0.8454 - val_loss: 0.4755 - val_accuracy: 0.8578 - 6s/epoch - 1s/step\n",
            "Epoch 49/100\n",
            "4/4 - 5s - loss: 0.4899 - accuracy: 0.8571 - val_loss: 0.5243 - val_accuracy: 0.8405 - 5s/epoch - 1s/step\n",
            "Epoch 50/100\n",
            "4/4 - 4s - loss: 0.5395 - accuracy: 0.8220 - val_loss: 0.4628 - val_accuracy: 0.8405 - 4s/epoch - 1s/step\n",
            "Epoch 51/100\n",
            "4/4 - 5s - loss: 0.4345 - accuracy: 0.8501 - val_loss: 0.4789 - val_accuracy: 0.8534 - 5s/epoch - 1s/step\n",
            "Epoch 52/100\n",
            "4/4 - 4s - loss: 0.4244 - accuracy: 0.8618 - val_loss: 0.5128 - val_accuracy: 0.8319 - 4s/epoch - 943ms/step\n",
            "Epoch 53/100\n",
            "4/4 - 6s - loss: 0.4696 - accuracy: 0.8571 - val_loss: 0.4915 - val_accuracy: 0.8578 - 6s/epoch - 1s/step\n",
            "Epoch 54/100\n",
            "4/4 - 5s - loss: 0.4032 - accuracy: 0.8735 - val_loss: 0.4846 - val_accuracy: 0.8707 - 5s/epoch - 1s/step\n",
            "Epoch 55/100\n",
            "4/4 - 4s - loss: 0.4690 - accuracy: 0.8525 - val_loss: 0.4571 - val_accuracy: 0.8707 - 4s/epoch - 1s/step\n",
            "Epoch 56/100\n",
            "4/4 - 6s - loss: 0.3915 - accuracy: 0.8806 - val_loss: 0.4249 - val_accuracy: 0.8793 - 6s/epoch - 2s/step\n",
            "Epoch 57/100\n",
            "4/4 - 5s - loss: 0.3983 - accuracy: 0.8501 - val_loss: 0.4612 - val_accuracy: 0.8664 - 5s/epoch - 1s/step\n",
            "Epoch 58/100\n",
            "4/4 - 4s - loss: 0.3709 - accuracy: 0.8923 - val_loss: 0.3883 - val_accuracy: 0.8922 - 4s/epoch - 950ms/step\n",
            "Epoch 59/100\n",
            "4/4 - 7s - loss: 0.3555 - accuracy: 0.8946 - val_loss: 0.5914 - val_accuracy: 0.8362 - 7s/epoch - 2s/step\n",
            "Epoch 60/100\n",
            "4/4 - 4s - loss: 0.4411 - accuracy: 0.8712 - val_loss: 0.4507 - val_accuracy: 0.8879 - 4s/epoch - 957ms/step\n",
            "Epoch 61/100\n",
            "4/4 - 4s - loss: 0.3467 - accuracy: 0.8829 - val_loss: 0.5043 - val_accuracy: 0.8534 - 4s/epoch - 1s/step\n",
            "Epoch 62/100\n",
            "4/4 - 6s - loss: 0.3503 - accuracy: 0.8862 - val_loss: 0.4268 - val_accuracy: 0.8664 - 6s/epoch - 1s/step\n",
            "Epoch 63/100\n",
            "4/4 - 5s - loss: 0.3649 - accuracy: 0.8852 - val_loss: 0.4241 - val_accuracy: 0.8664 - 5s/epoch - 1s/step\n",
            "Epoch 64/100\n",
            "4/4 - 5s - loss: 0.3893 - accuracy: 0.8689 - val_loss: 0.4374 - val_accuracy: 0.8448 - 5s/epoch - 1s/step\n",
            "Epoch 65/100\n",
            "4/4 - 4s - loss: 0.3112 - accuracy: 0.8973 - val_loss: 0.3994 - val_accuracy: 0.8922 - 4s/epoch - 1s/step\n",
            "Epoch 66/100\n",
            "4/4 - 5s - loss: 0.3772 - accuracy: 0.8970 - val_loss: 0.5565 - val_accuracy: 0.8276 - 5s/epoch - 1s/step\n",
            "Epoch 67/100\n",
            "4/4 - 4s - loss: 0.3333 - accuracy: 0.9040 - val_loss: 0.3890 - val_accuracy: 0.8750 - 4s/epoch - 944ms/step\n",
            "Epoch 68/100\n",
            "4/4 - 6s - loss: 0.3234 - accuracy: 0.9087 - val_loss: 0.3981 - val_accuracy: 0.8707 - 6s/epoch - 2s/step\n",
            "Epoch 69/100\n",
            "4/4 - 4s - loss: 0.2916 - accuracy: 0.8946 - val_loss: 0.4057 - val_accuracy: 0.8750 - 4s/epoch - 1s/step\n",
            "Epoch 70/100\n",
            "4/4 - 4s - loss: 0.2358 - accuracy: 0.9321 - val_loss: 0.3951 - val_accuracy: 0.9009 - 4s/epoch - 1s/step\n",
            "Epoch 71/100\n",
            "4/4 - 6s - loss: 0.2842 - accuracy: 0.8996 - val_loss: 0.4382 - val_accuracy: 0.8879 - 6s/epoch - 2s/step\n",
            "Epoch 72/100\n",
            "4/4 - 4s - loss: 0.2390 - accuracy: 0.9157 - val_loss: 0.4472 - val_accuracy: 0.8707 - 4s/epoch - 1s/step\n",
            "Epoch 73/100\n",
            "4/4 - 6s - loss: 0.2718 - accuracy: 0.9110 - val_loss: 0.4145 - val_accuracy: 0.8707 - 6s/epoch - 2s/step\n",
            "Epoch 74/100\n",
            "4/4 - 4s - loss: 0.2743 - accuracy: 0.9321 - val_loss: 0.4737 - val_accuracy: 0.8664 - 4s/epoch - 1s/step\n",
            "Epoch 75/100\n",
            "4/4 - 6s - loss: 0.2697 - accuracy: 0.9040 - val_loss: 0.3910 - val_accuracy: 0.9052 - 6s/epoch - 2s/step\n",
            "Epoch 76/100\n",
            "4/4 - 4s - loss: 0.2545 - accuracy: 0.9219 - val_loss: 0.4160 - val_accuracy: 0.8793 - 4s/epoch - 1s/step\n",
            "Epoch 77/100\n",
            "4/4 - 6s - loss: 0.2821 - accuracy: 0.9016 - val_loss: 0.4224 - val_accuracy: 0.8793 - 6s/epoch - 2s/step\n",
            "Epoch 78/100\n",
            "4/4 - 4s - loss: 0.2454 - accuracy: 0.9107 - val_loss: 0.3601 - val_accuracy: 0.9009 - 4s/epoch - 1s/step\n",
            "Epoch 79/100\n",
            "4/4 - 4s - loss: 0.2246 - accuracy: 0.9227 - val_loss: 0.4259 - val_accuracy: 0.8707 - 4s/epoch - 1s/step\n",
            "Epoch 80/100\n",
            "4/4 - 6s - loss: 0.2607 - accuracy: 0.9157 - val_loss: 0.4614 - val_accuracy: 0.8793 - 6s/epoch - 1s/step\n",
            "Epoch 81/100\n",
            "4/4 - 4s - loss: 0.2352 - accuracy: 0.9133 - val_loss: 0.4052 - val_accuracy: 0.8879 - 4s/epoch - 994ms/step\n",
            "Epoch 82/100\n",
            "4/4 - 6s - loss: 0.2138 - accuracy: 0.9297 - val_loss: 0.4391 - val_accuracy: 0.8793 - 6s/epoch - 2s/step\n",
            "Epoch 83/100\n",
            "4/4 - 4s - loss: 0.2148 - accuracy: 0.9180 - val_loss: 0.4050 - val_accuracy: 0.8836 - 4s/epoch - 944ms/step\n",
            "Epoch 84/100\n",
            "4/4 - 5s - loss: 0.2138 - accuracy: 0.9297 - val_loss: 0.4320 - val_accuracy: 0.8793 - 5s/epoch - 1s/step\n",
            "Epoch 85/100\n",
            "4/4 - 5s - loss: 0.2009 - accuracy: 0.9344 - val_loss: 0.4111 - val_accuracy: 0.8750 - 5s/epoch - 1s/step\n",
            "Epoch 86/100\n",
            "4/4 - 6s - loss: 0.2014 - accuracy: 0.9375 - val_loss: 0.5088 - val_accuracy: 0.8534 - 6s/epoch - 1s/step\n",
            "Epoch 87/100\n",
            "4/4 - 5s - loss: 0.2200 - accuracy: 0.9251 - val_loss: 0.4650 - val_accuracy: 0.8966 - 5s/epoch - 1s/step\n",
            "Epoch 88/100\n",
            "4/4 - 4s - loss: 0.2810 - accuracy: 0.9157 - val_loss: 0.4189 - val_accuracy: 0.8966 - 4s/epoch - 1s/step\n",
            "Epoch 89/100\n",
            "4/4 - 6s - loss: 0.1741 - accuracy: 0.9509 - val_loss: 0.4801 - val_accuracy: 0.8793 - 6s/epoch - 1s/step\n",
            "Epoch 90/100\n",
            "4/4 - 4s - loss: 0.2346 - accuracy: 0.9040 - val_loss: 0.4480 - val_accuracy: 0.8836 - 4s/epoch - 960ms/step\n",
            "Epoch 91/100\n",
            "4/4 - 6s - loss: 0.2527 - accuracy: 0.9204 - val_loss: 0.4785 - val_accuracy: 0.8750 - 6s/epoch - 1s/step\n",
            "Epoch 92/100\n",
            "4/4 - 4s - loss: 0.2306 - accuracy: 0.9321 - val_loss: 0.4847 - val_accuracy: 0.8578 - 4s/epoch - 997ms/step\n",
            "Epoch 93/100\n",
            "4/4 - 6s - loss: 0.1879 - accuracy: 0.9464 - val_loss: 0.4231 - val_accuracy: 0.8793 - 6s/epoch - 2s/step\n",
            "Epoch 94/100\n",
            "4/4 - 4s - loss: 0.2151 - accuracy: 0.9397 - val_loss: 0.4100 - val_accuracy: 0.9009 - 4s/epoch - 982ms/step\n",
            "Epoch 95/100\n",
            "4/4 - 4s - loss: 0.2104 - accuracy: 0.9180 - val_loss: 0.5271 - val_accuracy: 0.8621 - 4s/epoch - 1s/step\n",
            "Epoch 96/100\n",
            "4/4 - 7s - loss: 0.1814 - accuracy: 0.9464 - val_loss: 0.4258 - val_accuracy: 0.8836 - 7s/epoch - 2s/step\n",
            "Epoch 97/100\n",
            "4/4 - 4s - loss: 0.1647 - accuracy: 0.9438 - val_loss: 0.4046 - val_accuracy: 0.9052 - 4s/epoch - 1s/step\n",
            "Epoch 98/100\n",
            "4/4 - 6s - loss: 0.1715 - accuracy: 0.9438 - val_loss: 0.4533 - val_accuracy: 0.8922 - 6s/epoch - 2s/step\n",
            "Epoch 99/100\n",
            "4/4 - 4s - loss: 0.2314 - accuracy: 0.9344 - val_loss: 0.4830 - val_accuracy: 0.8793 - 4s/epoch - 982ms/step\n",
            "Epoch 100/100\n",
            "4/4 - 6s - loss: 0.1568 - accuracy: 0.9442 - val_loss: 0.4189 - val_accuracy: 0.8922 - 6s/epoch - 2s/step\n"
          ]
        }
      ],
      "source": [
        "# model = tf.keras.models.Sequential()\n",
        "# model.add(tf.keras.layers.Flatten(input_shape=(28,28)))\n",
        "# model.add(tf.keras.layers.Dense(128,activation = 'relu'))\n",
        "# model.add(tf.keras.layers.Dense(128,activation = 'relu'))\n",
        "# model.add(tf.keras.layers.Dense(10,activation = 'softmax'))\n",
        "\n",
        "model = tf.keras.Sequential()\n",
        "\n",
        "model.add(layers.Conv2D(filters=32, kernel_size=(5,5), padding='Same', \n",
        "                       activation=tf.nn.relu, input_shape = (28,28,1)))\n",
        "model.add(layers.Conv2D(filters=32, kernel_size=(5,5), padding='Same', \n",
        "                       activation=tf.nn.relu))\n",
        "model.add(layers.MaxPool2D(pool_size=(2,2)))\n",
        "model.add(layers.Dropout(0.25))\n",
        "\n",
        "\n",
        "model.add(layers.Conv2D(filters=64, kernel_size=(3,3), padding='Same', \n",
        "                       activation=tf.nn.relu, input_shape = (28,28,1)))\n",
        "model.add(layers.Conv2D(filters=64, kernel_size=(3,3), padding='Same', \n",
        "                       activation=tf.nn.relu))\n",
        "model.add(layers.MaxPool2D(pool_size=(2,2),strides=(2,2)))\n",
        "model.add(layers.Dropout(0.25))\n",
        "\n",
        "model.add(layers.Flatten())\n",
        "model.add(layers.Dense(256,activation=tf.nn.relu))\n",
        "model.add(layers.Dropout(0.25))\n",
        "model.add(layers.Dense(10,activation=tf.nn.softmax))\n",
        "\n",
        "model.compile(optimizer='adam', loss ='sparse_categorical_crossentropy',metrics = ['accuracy'])\n",
        "\n",
        "# model.fit(X_train, Y_train, epochs = 10)\n",
        "history = model.fit_generator(datagen.flow(X_train,Y_train, batch_size=batch_size),\n",
        "                              epochs = epochs, validation_data = (X_val,Y_val),\n",
        "                              verbose = 2, steps_per_epoch=X_train.shape[0] // batch_size\n",
        "                              )\n",
        "# history = model.fit(X_train, Y_train, epochs = epochs)"
      ]
    },
    {
      "cell_type": "code",
      "execution_count": 26,
      "metadata": {
        "id": "TbL6ZciCWOCC"
      },
      "outputs": [],
      "source": [
        "Y_val = tf.keras.utils.to_categorical(Y_val, num_classes=10)"
      ]
    },
    {
      "cell_type": "code",
      "execution_count": 27,
      "metadata": {
        "colab": {
          "base_uri": "https://localhost:8080/",
          "height": 523
        },
        "id": "55MidvC-S6kO",
        "outputId": "9f59f2f4-4486-4338-d27c-ce9ba0359536"
      },
      "outputs": [
        {
          "name": "stdout",
          "output_type": "stream",
          "text": [
            "8/8 [==============================] - 1s 52ms/step\n"
          ]
        },
        {
          "data": {
            "image/png": "[encoded data removed]",
            "text/plain": [
              "<Figure size 640x480 with 2 Axes>"
            ]
          },
          "metadata": {},
          "output_type": "display_data"
        }
      ],
      "source": [
        "from sklearn.metrics import confusion_matrix\n",
        "import itertools\n",
        "def plot_confusion_matrix(cm, classes,\n",
        "                          normalize=False,\n",
        "                          title='Confusion matrix',\n",
        "                          cmap=plt.cm.Blues):\n",
        "    \"\"\"\n",
        "    This function prints and plots the confusion matrix.\n",
        "    Normalization can be applied by setting `normalize=True`.\n",
        "    \"\"\"\n",
        "    plt.imshow(cm, interpolation='nearest', cmap=cmap)\n",
        "    plt.title(title)\n",
        "    plt.colorbar()\n",
        "    tick_marks = np.arange(len(classes))\n",
        "    plt.xticks(tick_marks, classes, rotation=45)\n",
        "    plt.yticks(tick_marks, classes)\n",
        "\n",
        "    if normalize:\n",
        "        cm = cm.astype('float') / cm.sum(axis=1)[:, np.newaxis]\n",
        "\n",
        "    thresh = cm.max() / 2.\n",
        "    for i, j in itertools.product(range(cm.shape[0]), range(cm.shape[1])):\n",
        "        plt.text(j, i, cm[i, j],\n",
        "                 horizontalalignment=\"center\",\n",
        "                 color=\"white\" if cm[i, j] > thresh else \"black\")\n",
        "\n",
        "    plt.tight_layout()\n",
        "    plt.ylabel('True label')\n",
        "    plt.xlabel('Predicted label')\n",
        "\n",
        "# Predict the values from the validation dataset\n",
        "Y_pred = model.predict(X_val)\n",
        "# Convert predictions classes to one hot vectors \n",
        "Y_pred_classes = np.argmax(Y_pred,axis = 1) \n",
        "# Convert validation observations to one hot vectors\n",
        "Y_true = np.argmax(Y_val,axis = 1) \n",
        "# compute the confusion matrix\n",
        "confusion_mtx = confusion_matrix(Y_true, Y_pred_classes) \n",
        "# plot the confusion matrix\n",
        "plot_confusion_matrix(confusion_mtx, classes = range(10))"
      ]
    },
    {
      "cell_type": "code",
      "execution_count": 28,
      "metadata": {
        "colab": {
          "base_uri": "https://localhost:8080/",
          "height": 430
        },
        "id": "UMuEeuHGTTGQ",
        "outputId": "2bd7fa97-9160-4483-e458-5c44070f6658"
      },
      "outputs": [
        {
          "data": {
            "image/png": "[encoded data removed]",
            "text/plain": [
              "<Figure size 640x480 with 6 Axes>"
            ]
          },
          "metadata": {},
          "output_type": "display_data"
        }
      ],
      "source": [
        "# Display some error results \n",
        "\n",
        "# Errors are difference between predicted labels and true labels\n",
        "errors = (Y_pred_classes - Y_true != 0)\n",
        "\n",
        "Y_pred_classes_errors = Y_pred_classes[errors]\n",
        "Y_pred_errors = Y_pred[errors]\n",
        "Y_true_errors = Y_true[errors]\n",
        "X_val_errors = X_val[errors]\n",
        "\n",
        "def display_errors(errors_index,img_errors,pred_errors, obs_errors):\n",
        "    \"\"\" This function shows 6 images with their predicted and real labels\"\"\"\n",
        "    n = 0\n",
        "    nrows = 2\n",
        "    ncols = 3\n",
        "    fig, ax = plt.subplots(nrows,ncols,sharex=True,sharey=True)\n",
        "    for row in range(nrows):\n",
        "        for col in range(ncols):\n",
        "            error = errors_index[n]\n",
        "            ax[row,col].imshow((img_errors[error]).reshape((28,28)))\n",
        "            ax[row,col].set_title(\" Predicted :{} True :{}\".format(pred_errors[error],obs_errors[error]))\n",
        "            n += 1\n",
        "\n",
        "# Probabilities of the wrong predicted numbers\n",
        "Y_pred_errors_prob = np.max(Y_pred_errors,axis = 1)\n",
        "\n",
        "# Predicted probabilities of the true values in the error set\n",
        "true_prob_errors = np.diagonal(np.take(Y_pred_errors, Y_true_errors, axis=1))\n",
        "\n",
        "# Difference between the probability of the predicted label and the true label\n",
        "delta_pred_true_errors = Y_pred_errors_prob - true_prob_errors\n",
        "\n",
        "# Sorted list of the delta prob errors\n",
        "sorted_dela_errors = np.argsort(delta_pred_true_errors)\n",
        "\n",
        "# Top 6 errors \n",
        "most_important_errors = sorted_dela_errors[-6:]\n",
        "\n",
        "# Show the top 6 errors\n",
        "display_errors(most_important_errors, X_val_errors, Y_pred_classes_errors, Y_true_errors)"
      ]
    },
    {
      "cell_type": "code",
      "execution_count": 29,
      "metadata": {
        "colab": {
          "base_uri": "https://localhost:8080/"
        },
        "id": "vesjj4l4hlGC",
        "outputId": "6e233da8-bdc5-4a6c-cc9e-8fb625367c9a"
      },
      "outputs": [
        {
          "name": "stderr",
          "output_type": "stream",
          "text": [
            "WARNING:absl:Found untraced functions such as _jit_compiled_convolution_op, _jit_compiled_convolution_op, _jit_compiled_convolution_op, _jit_compiled_convolution_op, _update_step_xla while saving (showing 5 of 5). These functions will not be directly callable after loading.\n"
          ]
        }
      ],
      "source": [
        "model.save(\"/content/drive/MyDrive/RM_Model/model_1\")"
      ]
    },
    {
      "cell_type": "code",
      "execution_count": 30,
      "metadata": {
        "id": "rCAGplgQitpt"
      },
      "outputs": [],
      "source": [
        "from tensorflow import keras\n",
        "loaded_2 = keras.models.load_model(\"/content/drive/MyDrive/RM_Model/model_1\")"
      ]
    },
    {
      "cell_type": "code",
      "execution_count": 31,
      "metadata": {
        "colab": {
          "base_uri": "https://localhost:8080/"
        },
        "id": "tb5DzuZ9jbQB",
        "outputId": "551e4f58-fc3f-4de7-d9d6-0cb4a6e3aee7"
      },
      "outputs": [
        {
          "name": "stdout",
          "output_type": "stream",
          "text": [
            "Looking in indexes: https://pypi.org/simple, https://us-python.pkg.dev/colab-wheels/public/simple/\n",
            "Collecting pyscreenshot\n",
            "  Downloading pyscreenshot-3.1-py3-none-any.whl (28 kB)\n",
            "Collecting EasyProcess (from pyscreenshot)\n",
            "  Downloading EasyProcess-1.1-py3-none-any.whl (8.7 kB)\n",
            "Collecting entrypoint2 (from pyscreenshot)\n",
            "  Downloading entrypoint2-1.1-py2.py3-none-any.whl (9.9 kB)\n",
            "Collecting mss (from pyscreenshot)\n",
            "  Downloading mss-9.0.1-py3-none-any.whl (22 kB)\n",
            "Collecting jeepney (from pyscreenshot)\n",
            "  Downloading jeepney-0.8.0-py3-none-any.whl (48 kB)\n",
            "\u001b[2K     \u001b[90m━━━━━━━━━━━━━━━━━━━━━━━━━━━━━━━━━━━━━━━━\u001b[0m \u001b[32m48.4/48.4 kB\u001b[0m \u001b[31m5.5 MB/s\u001b[0m eta \u001b[36m0:00:00\u001b[0m\n",
            "\u001b[?25hInstalling collected packages: entrypoint2, EasyProcess, mss, jeepney, pyscreenshot\n",
            "Successfully installed EasyProcess-1.1 entrypoint2-1.1 jeepney-0.8.0 mss-9.0.1 pyscreenshot-3.1\n"
          ]
        }
      ],
      "source": []
    },
    {
      "cell_type": "code",
      "execution_count": 32,
      "metadata": {
        "colab": {
          "base_uri": "https://localhost:8080/",
          "height": 380
        },
        "id": "w70NkdSLjM93",
        "outputId": "0c2314c9-7564-4857-d5bb-9f553f637670"
      },
      "outputs": [
        {
          "ename": "FailedBackendError",
          "evalue": "ignored",
          "output_type": "error",
          "traceback": [
            "\u001b[0;31m---------------------------------------------------------------------------\u001b[0m",
            "\u001b[0;31mFailedBackendError\u001b[0m                        Traceback (most recent call last)",
            "\u001b[0;32m<ipython-input-32-5b76336ba797>\u001b[0m in \u001b[0;36m<cell line: 10>\u001b[0;34m()\u001b[0m\n\u001b[1;32m      9\u001b[0m \u001b[0;34m\u001b[0m\u001b[0m\n\u001b[1;32m     10\u001b[0m \u001b[0;32mwhile\u001b[0m \u001b[0;32mTrue\u001b[0m\u001b[0;34m:\u001b[0m\u001b[0;34m\u001b[0m\u001b[0;34m\u001b[0m\u001b[0m\n\u001b[0;32m---> 11\u001b[0;31m    \u001b[0mimg\u001b[0m\u001b[0;34m=\u001b[0m\u001b[0mImageGrab\u001b[0m\u001b[0;34m.\u001b[0m\u001b[0mgrab\u001b[0m\u001b[0;34m(\u001b[0m\u001b[0mbbox\u001b[0m\u001b[0;34m=\u001b[0m\u001b[0;34m(\u001b[0m\u001b[0;36m60\u001b[0m\u001b[0;34m,\u001b[0m\u001b[0;36m170\u001b[0m\u001b[0;34m,\u001b[0m\u001b[0;36m400\u001b[0m\u001b[0;34m,\u001b[0m\u001b[0;36m500\u001b[0m\u001b[0;34m)\u001b[0m\u001b[0;34m)\u001b[0m\u001b[0;34m\u001b[0m\u001b[0;34m\u001b[0m\u001b[0m\n\u001b[0m\u001b[1;32m     12\u001b[0m \u001b[0;34m\u001b[0m\u001b[0m\n\u001b[1;32m     13\u001b[0m    \u001b[0mimg\u001b[0m\u001b[0;34m.\u001b[0m\u001b[0msave\u001b[0m\u001b[0;34m(\u001b[0m\u001b[0mimage_folder\u001b[0m\u001b[0;34m+\u001b[0m\u001b[0;34m\"img.png\"\u001b[0m\u001b[0;34m)\u001b[0m\u001b[0;34m\u001b[0m\u001b[0;34m\u001b[0m\u001b[0m\n",
            "\u001b[0;32m/usr/local/lib/python3.10/dist-packages/pyscreenshot/__init__.py\u001b[0m in \u001b[0;36mgrab\u001b[0;34m(bbox, childprocess, backend)\u001b[0m\n\u001b[1;32m     35\u001b[0m         \u001b[0;32mif\u001b[0m \u001b[0my2\u001b[0m \u001b[0;34m<=\u001b[0m \u001b[0my1\u001b[0m\u001b[0;34m:\u001b[0m\u001b[0;34m\u001b[0m\u001b[0;34m\u001b[0m\u001b[0m\n\u001b[1;32m     36\u001b[0m             \u001b[0;32mraise\u001b[0m \u001b[0mValueError\u001b[0m\u001b[0;34m(\u001b[0m\u001b[0;34m\"bbox y2<=y1\"\u001b[0m\u001b[0;34m)\u001b[0m\u001b[0;34m\u001b[0m\u001b[0;34m\u001b[0m\u001b[0m\n\u001b[0;32m---> 37\u001b[0;31m     \u001b[0;32mreturn\u001b[0m \u001b[0mbackend_grab\u001b[0m\u001b[0;34m(\u001b[0m\u001b[0mbackend\u001b[0m\u001b[0;34m,\u001b[0m \u001b[0mbbox\u001b[0m\u001b[0;34m,\u001b[0m \u001b[0mchildprocess\u001b[0m\u001b[0;34m)\u001b[0m\u001b[0;34m\u001b[0m\u001b[0;34m\u001b[0m\u001b[0m\n\u001b[0m\u001b[1;32m     38\u001b[0m \u001b[0;34m\u001b[0m\u001b[0m\n\u001b[1;32m     39\u001b[0m \u001b[0;34m\u001b[0m\u001b[0m\n",
            "\u001b[0;32m/usr/local/lib/python3.10/dist-packages/pyscreenshot/loader.py\u001b[0m in \u001b[0;36mbackend_grab\u001b[0;34m(backend, bbox, childprocess)\u001b[0m\n\u001b[1;32m    169\u001b[0m         \u001b[0;32mreturn\u001b[0m \u001b[0mforce\u001b[0m\u001b[0;34m(\u001b[0m\u001b[0mbackend\u001b[0m\u001b[0;34m,\u001b[0m \u001b[0mbbox\u001b[0m\u001b[0;34m,\u001b[0m \u001b[0mchildprocess\u001b[0m\u001b[0;34m)\u001b[0m\u001b[0;34m\u001b[0m\u001b[0;34m\u001b[0m\u001b[0m\n\u001b[1;32m    170\u001b[0m     \u001b[0;32melse\u001b[0m\u001b[0;34m:\u001b[0m\u001b[0;34m\u001b[0m\u001b[0;34m\u001b[0m\u001b[0m\n\u001b[0;32m--> 171\u001b[0;31m         \u001b[0;32mreturn\u001b[0m \u001b[0mauto\u001b[0m\u001b[0;34m(\u001b[0m\u001b[0mbbox\u001b[0m\u001b[0;34m,\u001b[0m \u001b[0mchildprocess\u001b[0m\u001b[0;34m)\u001b[0m\u001b[0;34m\u001b[0m\u001b[0;34m\u001b[0m\u001b[0m\n\u001b[0m\u001b[1;32m    172\u001b[0m \u001b[0;34m\u001b[0m\u001b[0m\n\u001b[1;32m    173\u001b[0m \u001b[0;34m\u001b[0m\u001b[0m\n",
            "\u001b[0;32m/usr/local/lib/python3.10/dist-packages/pyscreenshot/loader.py\u001b[0m in \u001b[0;36mauto\u001b[0;34m(bbox, childprocess)\u001b[0m\n\u001b[1;32m    149\u001b[0m     \u001b[0;32mif\u001b[0m \u001b[0;32mnot\u001b[0m \u001b[0mim\u001b[0m\u001b[0;34m:\u001b[0m\u001b[0;34m\u001b[0m\u001b[0;34m\u001b[0m\u001b[0m\n\u001b[1;32m    150\u001b[0m         \u001b[0mmsg\u001b[0m \u001b[0;34m=\u001b[0m \u001b[0;34m\"All backends failed!\"\u001b[0m\u001b[0;34m\u001b[0m\u001b[0;34m\u001b[0m\u001b[0m\n\u001b[0;32m--> 151\u001b[0;31m         \u001b[0;32mraise\u001b[0m \u001b[0mFailedBackendError\u001b[0m\u001b[0;34m(\u001b[0m\u001b[0mmsg\u001b[0m\u001b[0;34m)\u001b[0m\u001b[0;34m\u001b[0m\u001b[0;34m\u001b[0m\u001b[0m\n\u001b[0m\u001b[1;32m    152\u001b[0m \u001b[0;34m\u001b[0m\u001b[0m\n\u001b[1;32m    153\u001b[0m     \u001b[0;32mreturn\u001b[0m \u001b[0mim\u001b[0m\u001b[0;34m\u001b[0m\u001b[0;34m\u001b[0m\u001b[0m\n",
            "\u001b[0;31mFailedBackendError\u001b[0m: All backends failed!"
          ]
        }
      ],
      "source": []
    }
  ],
  "metadata": {
    "colab": {
      "provenance": []
    },
    "kernelspec": {
      "display_name": "Python 3",
      "name": "python3"
    },
    "language_info": {
      "name": "python"
    }
  },
  "nbformat": 4,
  "nbformat_minor": 0
}
